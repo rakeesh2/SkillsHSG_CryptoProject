{
 "cells": [
  {
   "cell_type": "markdown",
   "metadata": {},
   "source": [
    "## Library to use in main file"
   ]
  },
  {
   "cell_type": "markdown",
   "metadata": {},
   "source": [
    "### Importing necessary libraries"
   ]
  },
  {
   "cell_type": "code",
   "execution_count": 1,
   "metadata": {},
   "outputs": [],
   "source": [
    "from datetime import datetime as dt\n",
    "from yahoo_fin.stock_info import get_data\n",
    "\n",
    "import numpy as np\n",
    "import pandas as pd\n",
    "from datetime import date\n",
    "\n",
    "from scipy.optimize import minimize\n",
    "from scipy.stats import norm\n",
    "import matplotlib.pyplot as plt"
   ]
  },
  {
   "cell_type": "markdown",
   "metadata": {},
   "source": [
    "### Function to Fetch Price and Returns DataFrame"
   ]
  },
  {
   "cell_type": "code",
   "execution_count": 2,
   "metadata": {},
   "outputs": [],
   "source": [
    "def Prices_Return_Df(ticker,from_date,riskFreeRate): #This function fetches prices from yahoo finance to create price and return dataframe \n",
    "    now=date.today().strftime(\"%d/%m/%Y\")   \n",
    "    prices=pd.DataFrame()\n",
    "    for x in ticker: \n",
    "        try:            \n",
    "            data= get_data(x, start_date=from_date, end_date=now, index_as_date = True, interval=\"1d\").close\n",
    "            year=data.index[0].strftime(\"%Y\")\n",
    "            month=data.index[0].strftime(\"%m\")\n",
    "            act_date=dt.strptime(from_date, \"%m/%d/%Y\")\n",
    "            if month == act_date.strftime(\"%m\") and year == act_date.strftime(\"%Y\"): #checking start month and year of price before appending with exisiting dataframe\n",
    "                prices[x] = data                \n",
    "                print(\"Successfully Fetched\",\"|\",x)\n",
    "            else:\n",
    "                print(\"Insufficient data\",x)\n",
    "        except:\n",
    "            print(\"Price Fetch Error:Could Be Invalid Symbol\",x)               \n",
    "    prices_df=prices.dropna()\n",
    "    returns_df = prices.pct_change()-(riskFreeRate/252) #calculating percent change / rate of return\n",
    "    returns_df=returns_df.dropna()\n",
    "    print(len(prices),\"|\",\"Total length of data Used for Analysis\")\n",
    "    return prices_df , returns_df"
   ]
  },
  {
   "cell_type": "markdown",
   "metadata": {},
   "source": [
    "### Structure of Library"
   ]
  },
  {
   "cell_type": "markdown",
   "metadata": {},
   "source": [
    "<img src=\"portfolio_library.png\">"
   ]
  },
  {
   "cell_type": "markdown",
   "metadata": {},
   "source": [
    "### Metric Class to obtain necessary metrics for calculation and optimization (Building Blocks - Foundation)"
   ]
  },
  {
   "cell_type": "code",
   "execution_count": 3,
   "metadata": {},
   "outputs": [],
   "source": [
    "class Metrics:\n",
    "    def __init__(self,returns_df,invested_capital):\n",
    "        self.returns_df=returns_df #Get returns dataframe\n",
    "        self.invested_capital=invested_capital #Get Invested Capital\n",
    "        self.ticker=returns_df.columns #Gets list of obtained ticker\n",
    "\n",
    "    \n",
    "    def covMatrix(self): #Derive Covariance Matrix from the returns dataframe.\n",
    "        df=self.returns_df.values\n",
    "        covMatrix = np.cov(df,rowvar=False) #obtain covariance\n",
    "        return covMatrix\n",
    "    \n",
    "    def meanReturns(self): #Derive Mean Returns of each Instrument/Symbol from the returns dataframe.\n",
    "        df=self.returns_df.values\n",
    "        meanReturns = np.mean(df,axis=0) #mean return of individual stocks\n",
    "        return meanReturns\n",
    "    \n",
    "    def portfolio_return(self,weights): #Derive Portfolio Return by using meanReturns function.\n",
    "        meanReturns=self.meanReturns()\n",
    "        returns = np.sum(meanReturns*weights)*252 #sum of all returns of stocks based on our weigtage\n",
    "        return returns\n",
    "    \n",
    "    def portfolio_variance(self,weights): #Derive Portfolio Variance by using covMatrix function.\n",
    "        covMatrix=self.covMatrix()        \n",
    "        variance=np.dot(weights.T,np.dot(covMatrix, weights))*252 #Portfolio Variance Calculation\n",
    "        return variance\n",
    "        \n",
    "    def portfolio_stdev(self,weights): #Derive standard-deviation or volatility of the portfolio by using portfolio_variance function.\n",
    "        stdev=np.sqrt(self.portfolio_variance(weights)) #Portfolio volatility calculation\n",
    "        return stdev\n",
    "    \n",
    "    def portfolio_VaR(self,weights,confidence,days): #Derive VaR of the portfolio by using portfolio_stdev function.\n",
    "        volatility=self.portfolio_stdev(weights)\n",
    "        stress_event=norm.ppf(confidence)\n",
    "        VaR=self.invested_capital*volatility*stress_event*np.sqrt(days/252)# VaR calculation\n",
    "        VaR_Percent=(VaR/self.invested_capital)\n",
    "        return VaR_Percent\n",
    "        \n",
    "        \n",
    "    def risk_weights(self,weights): #Derive risk allocation of individual stocks of the portfolio by using covMatrix and portfolio_variance functions.\n",
    "        covMatrix=self.covMatrix() \n",
    "        variance=self.portfolio_variance(weights)\n",
    "        cw=np.dot(covMatrix, weights)\n",
    "        weights_risk=[]\n",
    "        for x in range(0,len(cw)):\n",
    "            risk=((cw[x]*weights[x])/variance)*252 #risk allocation calculation based on weight\n",
    "            weights_risk.append(risk)\n",
    "        return weights_risk\n",
    "    \n",
    "    \n",
    "    def Balance_Array(self,weights): #Derive series Balance array/List by using returns dataframe\n",
    "        try:\n",
    "            df=self.returns_df.copy()\n",
    "            modified_returns=df*weights       \n",
    "            df['portfolio_return']=modified_returns.sum(axis = 1, skipna = True)\n",
    "            balance_array=[]\n",
    "            for x in range(0,len(df)):\n",
    "                if x==0:\n",
    "                    balance_array.append(self.invested_capital)\n",
    "                else:\n",
    "                    prev_ind=len(balance_array)-1\n",
    "                    prev_bal=balance_array[prev_ind]\n",
    "                    balance_array.append(df['portfolio_return'].iloc[x]*prev_bal+prev_bal)#running balance calculation\n",
    "            return balance_array,np.array(df.index)\n",
    "        except:\n",
    "            return \"please check the dataframe\"\n",
    "        \n",
    "    def Max_Drawdown(self,weights): #Derive Maximum Drawdown by using Balance_Array function\n",
    "        balance,dti=self.Balance_Array(weights)\n",
    "        max_balance=[]\n",
    "        drawdown=[]\n",
    "        try:\n",
    "            for x in range(0,len(balance)): \n",
    "                if x==0:\n",
    "                    max_balance.append(balance[0]) \n",
    "                else:\n",
    "                    max_balance.append(max(balance[0:x])) \n",
    "                    \n",
    "            for x in range(0,len(balance)): \n",
    "                temp_data=balance[x]/max_balance[x]-1 #running drawdown calculation\n",
    "                drawdown.append(temp_data)\n",
    "                \n",
    "            max_drawdown=abs(min(drawdown))\n",
    "            return max_drawdown\n",
    "        except:\n",
    "            return \"please check the dataframe\"\n",
    "        \n",
    "    def Balance_Graph(self,weights): #Derive Performance Graph by using Balance_Array function\n",
    "        balance,dti=self.Balance_Array(weights)\n",
    "        plt.figure(figsize=(10, 6))\n",
    "        plt.plot(dti,balance)  \n",
    "        plt.title(\"Equity Curve\")        \n",
    "        plt.xlabel(\"Date\")\n",
    "        plt.ylabel(\"Balance\") \n",
    "        plt.show()   \n",
    "    \n",
    "    def All_Balance_Graph(self,eq_weights,rc_weights,mv_weights): #Derive Performance Graph\n",
    "        eq_balance,dti=self.Balance_Array(eq_weights)\n",
    "        rc_balance,dti=self.Balance_Array(rc_weights)\n",
    "        mv_balance,dti=self.Balance_Array(mv_weights)\n",
    "        plt.figure(figsize=(10, 6))\n",
    "        plt.plot(dti,eq_balance) \n",
    "        plt.plot(dti,rc_balance)\n",
    "        plt.plot(dti,mv_balance) \n",
    "        plt.legend([\"Equally Weighted\", \"Equal Risk Contribution\",\"Mean Variance\"])\n",
    "        plt.title(\"Equity Curve\")        \n",
    "        plt.xlabel(\"Date\")\n",
    "        plt.ylabel(\"Balance\")        \n",
    "        plt.show()  "
   ]
  },
  {
   "cell_type": "markdown",
   "metadata": {},
   "source": [
    "### Optimal_Requirement Class is a child class of metrics which is used for optimizing them to reach desired results (Intermediate Floor)"
   ]
  },
  {
   "cell_type": "code",
   "execution_count": 4,
   "metadata": {},
   "outputs": [],
   "source": [
    "class Optimal_Requirements(Metrics):\n",
    "    \n",
    "    def deviation(self,weights): #Derive Deviation from equally allocated risk and portfolio allocated risk\n",
    "        meanReturns=self.meanReturns()\n",
    "        fixed_risk = np.empty(len(meanReturns))\n",
    "        fixed_risk.fill((1/len(meanReturns)))           \n",
    "        risk_allocated=self.risk_weights(weights)        \n",
    "        dev_list=np.abs(np.subtract(fixed_risk,risk_allocated)) #subtracting fixed risk and allocated risk to get deviation list\n",
    "        deviation_value=sum(dev_list) #sum of all elements in deviation list\n",
    "        return deviation_value\n",
    "    \n",
    "    def negativeSR(self,weights): #Derive Negative Sharpe Ratio of the portfolio by using portfolio_return and portfolio_stdev functions.\n",
    "        returns=self.portfolio_return(weights)\n",
    "        stdev=self.portfolio_stdev(weights)\n",
    "        nSR =- (returns)/stdev\n",
    "        return nSR"
   ]
  },
  {
   "cell_type": "markdown",
   "metadata": {},
   "source": [
    "### Portfolio_Weights Class is a child class of Optimal_Requirements which is used for obtaining optimized weights (Top Floor)"
   ]
  },
  {
   "cell_type": "code",
   "execution_count": 5,
   "metadata": {},
   "outputs": [],
   "source": [
    "\n",
    "class Portfolio_Weights(Optimal_Requirements): \n",
    "        \n",
    "    def Equally_Weighted(self): #Derive Equally weighted array/list\n",
    "        meanReturns=self.meanReturns()\n",
    "        numAssets=len(meanReturns)\n",
    "        weights = np.empty(numAssets)#this will create empty list with numAsset length\n",
    "        weights.fill((1/numAssets))#fill the list with  1/numAsset value\n",
    "        weights_df=pd.DataFrame()\n",
    "        weights_df['ticker']=self.ticker\n",
    "        weights_df['weights']=weights\n",
    "        return weights_df\n",
    "    \n",
    "    def Risk_Contributed_Optimized_Weights(self,constraintSet=(0,1)): #Derive Risk Contributed weighted array/list\n",
    "        \"Minimize deviation ,by altering the weights of the portfolio\"\n",
    "        meanReturns=self.meanReturns()       \n",
    "        numAssets = len(meanReturns)\n",
    "\n",
    "        constraints = ({'type': 'eq', 'fun': lambda x: np.sum(x) - 1}) #contraint that sum of weights should be equal to 1\n",
    "        bound = constraintSet #boundaries of each weight has to be between 0 - 1 \n",
    "        bounds = tuple(bound for asset in range(numAssets))\n",
    "        result = minimize(self.deviation, numAssets*[1./numAssets],\n",
    "                            method='SLSQP', bounds=bounds, constraints=constraints) #minimizing deviation by using SLSQP Algo\n",
    "        weights=np.around(result['x'],4)\n",
    "        weights_df=pd.DataFrame()\n",
    "        weights_df['ticker']=self.ticker\n",
    "        weights_df['weights']=weights\n",
    "        return weights_df  \n",
    "    \n",
    "    def meanVariance_Optimized_Weights(self, constraintSet=(0,1)): #Derive Mean Variance optimised weighted array/list\n",
    "        \"Minimize the negative SR, by altering the weights of the portfolio\"\n",
    "        meanReturns=self.meanReturns()\n",
    "        numAssets = len(meanReturns)\n",
    "  \n",
    "        constraints = ({'type': 'eq', 'fun': lambda x: np.sum(x) - 1})\n",
    "        bound = constraintSet\n",
    "        bounds = tuple(bound for asset in range(numAssets))\n",
    "        result = minimize(self.negativeSR, numAssets*[1./numAssets],\n",
    "                            method='SLSQP', bounds=bounds, constraints=constraints) #minimizing negativeSR by using SLSQP Algo\n",
    "        weights=np.around(result['x'],4)\n",
    "        weights_df=pd.DataFrame()\n",
    "        weights_df['ticker']=self.ticker\n",
    "        weights_df['weights']=weights\n",
    "        return weights_df\n",
    " "
   ]
  }
 ],
 "metadata": {
  "kernelspec": {
   "display_name": "Python 3",
   "language": "python",
   "name": "python3"
  },
  "language_info": {
   "codemirror_mode": {
    "name": "ipython",
    "version": 3
   },
   "file_extension": ".py",
   "mimetype": "text/x-python",
   "name": "python",
   "nbconvert_exporter": "python",
   "pygments_lexer": "ipython3",
   "version": "3.7.4"
  }
 },
 "nbformat": 4,
 "nbformat_minor": 2
}
